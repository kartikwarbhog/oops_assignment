{
 "cells": [
  {
   "cell_type": "markdown",
   "id": "fe239014-c82c-4502-8eee-5bf4f63c2dfd",
   "metadata": {},
   "source": [
    "### 1. What are the five key concepts of Object-Oriented Programming (OOP)?"
   ]
  },
  {
   "cell_type": "markdown",
   "id": "03f2091b-88a5-4173-afaa-fa92d5097811",
   "metadata": {},
   "source": [
    "Five key concepts of object oriented programming:\n",
    "1) Class and object - class is blueprint or tamplet for creating object and objects are the real-time entities which are used to access the data and methods of the class \n",
    "2) Inheritance - Inheritance is key concept in object oriented programming. In inheritance we can inherit class from other class. Major advantage of inheritance is code reusability by inherting class we can use same code multiple times\n",
    "3) Encapsulation - \n",
    "4) Polymorphism - Poly means many and form means structure\n",
    "5) Abstraction -\n"
   ]
  },
  {
   "cell_type": "markdown",
   "id": "c7035477-af41-4b24-a041-26c2600f66c9",
   "metadata": {},
   "source": [
    "### 2. Write a Python class for a `Car` with attributes for `make`, `model`, and `year`. Include a method to display the car's information."
   ]
  },
  {
   "cell_type": "code",
   "execution_count": 1,
   "id": "46faf165-c85d-41ab-9b21-bd388affcc2b",
   "metadata": {},
   "outputs": [
    {
     "name": "stdout",
     "output_type": "stream",
     "text": [
      "Make: Brezza\n",
      "Model: Maruti\n",
      "Year: 1985\n"
     ]
    }
   ],
   "source": [
    "class Car:\n",
    "    def __init__(self, make, model, year):\n",
    "        self.make = make\n",
    "        self.model = model\n",
    "        self.year = year\n",
    "        \n",
    "    def display(self):\n",
    "        print(\"Make:\", self.make)\n",
    "        print(\"Model:\", self.model)\n",
    "        print(\"Year:\", self.year)\n",
    "\n",
    "c1 = Car(\"Brezza\", \"Maruti\", 1985)\n",
    "c1.display()"
   ]
  },
  {
   "cell_type": "markdown",
   "id": "44b78cfd-5391-42bb-b611-644c939b8e56",
   "metadata": {},
   "source": [
    "### 3. Explain the difference between instance methods and class methods. Provide an example of each."
   ]
  },
  {
   "cell_type": "markdown",
   "id": "9d857cc1-60f9-4508-8a1c-b60fb707af0e",
   "metadata": {},
   "source": [
    "- Instance method:\n",
    "    - Instance method required an isntance of the class to be called and have access to that specific instance\n",
    "    - It uses self as a first parameter\n",
    "- class method:\n",
    "    - Class method bounds/binds to an class itself not to the an instance\n",
    "    - It uses cls as a first parameter"
   ]
  },
  {
   "cell_type": "code",
   "execution_count": 2,
   "id": "139b15c8-fd93-4b14-b2bf-dba755159ea0",
   "metadata": {},
   "outputs": [],
   "source": [
    "class Difference:\n",
    "    def instance_method(self):\n",
    "        print(\"I am instance method\")\n",
    "        \n",
    "    @classmethod\n",
    "    def class_method(cls):\n",
    "        print(\"I am class method\")"
   ]
  },
  {
   "cell_type": "code",
   "execution_count": 3,
   "id": "73125210-3fd0-411e-9e58-b96587fbab0f",
   "metadata": {},
   "outputs": [
    {
     "name": "stdout",
     "output_type": "stream",
     "text": [
      "I am instance method\n"
     ]
    }
   ],
   "source": [
    "# calling instance method\n",
    "obj = Difference()\n",
    "obj.instance_method()"
   ]
  },
  {
   "cell_type": "code",
   "execution_count": 4,
   "id": "6c4d5350-002d-4588-9bb6-901bf5c629af",
   "metadata": {},
   "outputs": [
    {
     "name": "stdout",
     "output_type": "stream",
     "text": [
      "I am class method\n"
     ]
    }
   ],
   "source": [
    "# calling class method\n",
    "Difference.class_method()"
   ]
  },
  {
   "cell_type": "markdown",
   "id": "770e48a3-7206-4a6d-b439-6a85d054ce70",
   "metadata": {},
   "source": [
    "### 4. How does Python implement method overloading? Give an example."
   ]
  },
  {
   "cell_type": "markdown",
   "id": "bcbba6bd-0e97-4d4b-b1e0-3b5290f7ed4c",
   "metadata": {},
   "source": [
    "- Python does not support true overloading"
   ]
  },
  {
   "cell_type": "code",
   "execution_count": 5,
   "id": "4feb7a97-7574-4dec-a34c-81ed5ba0869d",
   "metadata": {},
   "outputs": [
    {
     "name": "stdout",
     "output_type": "stream",
     "text": [
      "name: None Course: None\n",
      "name: kartik Course: None\n",
      "name: kartik Course: Data Science\n"
     ]
    }
   ],
   "source": [
    "class Overloading:\n",
    "    def overloading_function(self, name = \"None\", course = \"None\"):\n",
    "        print(\"name:\", name, \"Course:\", course)\n",
    "\n",
    "obj = Overloading()\n",
    "obj.overloading_function()\n",
    "obj.overloading_function(\"kartik\")\n",
    "obj.overloading_function(\"kartik\", \"Data Science\")"
   ]
  },
  {
   "cell_type": "markdown",
   "id": "66362669-7118-4df3-9c68-0f09ad8b0623",
   "metadata": {},
   "source": [
    "### 5. What are the three types of access modifiers in Python? How are they denoted?"
   ]
  },
  {
   "cell_type": "markdown",
   "id": "e86d54e2-bf1a-4e4b-b984-4a601a8b0411",
   "metadata": {},
   "source": [
    "- There are theree types of access modifier:\n",
    "    - Public - When the data members and methods are public then they accessed anywhere inside and outside the class and it is denoted as a normal variable\n",
    "    - Private - When the data members and methods are private then they accessed inside the class only and it is denoted with double underscore\n",
    "    - Protected - When the data members and methods are prottected then they accessed by the subclass only and it is denoted with single underscore"
   ]
  },
  {
   "cell_type": "code",
   "execution_count": 6,
   "id": "66ff202c-db65-4e0a-b31b-edae59e348e3",
   "metadata": {},
   "outputs": [],
   "source": [
    "class AccessModifier:\n",
    "    def __init__(self, name, age, roll_no):\n",
    "        self.name = name # public variable and by default variables are public\n",
    "        self.__age = age # private variable and it is denoted with double underscore\n",
    "        self._roll_no = roll_no # protected variable and it is denoted with the single underscore"
   ]
  },
  {
   "cell_type": "markdown",
   "id": "b546254d-7bf4-49c4-8d6b-b0a8e10c8d9a",
   "metadata": {},
   "source": [
    "### 6. Describe the five types of inheritance in Python. Provide a simple example of multiple inheritance"
   ]
  },
  {
   "cell_type": "markdown",
   "id": "99037ec9-3cdd-4790-af51-cb6835e2c756",
   "metadata": {},
   "source": [
    "- Types of inheritance:\n",
    "    - Single inheritance - When the base class have only one child class then this type of inheritance is called as single inheritance\n",
    "    - Multi-level inheritance - If class B is inherited from class A and class C is inherited from class B then this type of inheritance is called as multi-level inheritance\n",
    "    - Multiple inheritance - When child class inherit properties of multiple parent class then it is called as multiple inheritance\n",
    "    - Hierarchical inheritance - When the parent class have more than one child class then this is called Hierarchical inheritance\n",
    "    - Hybrid Inheritance - Hybrid inheritance is a combination of different inheritance"
   ]
  },
  {
   "cell_type": "code",
   "execution_count": 7,
   "id": "e7ccf428-6c80-4523-9050-0820ca79981f",
   "metadata": {},
   "outputs": [
    {
     "name": "stdout",
     "output_type": "stream",
     "text": [
      "I am child\n",
      "I am parent1\n",
      "I am parent2\n"
     ]
    }
   ],
   "source": [
    "# Example of multiple inheritance\n",
    "\n",
    "class Parent1:\n",
    "    def parent_properties1(self):\n",
    "        print(\"I am parent1\")\n",
    "\n",
    "class Parent2:\n",
    "    def parent_properties2(self):\n",
    "        print(\"I am parent2\")\n",
    "\n",
    "class Child(Parent1, Parent2):\n",
    "    def child_properties(self):\n",
    "        print(\"I am child\")\n",
    "\n",
    "obj = Child()\n",
    "obj.child_properties()\n",
    "obj.parent_properties1()\n",
    "obj.parent_properties2()"
   ]
  },
  {
   "cell_type": "markdown",
   "id": "55e9ad16-c72b-4509-bd19-536541036154",
   "metadata": {},
   "source": [
    "### 7. What is the Method Resolution Order (MRO) in Python? How can you retrieve it programmatically?"
   ]
  },
  {
   "cell_type": "markdown",
   "id": "d4270a01-4498-455b-9d3c-07aa1f0dfb5e",
   "metadata": {},
   "source": [
    "Method resolution order(MRO) - It is a sequence in which the method of class will be executed"
   ]
  },
  {
   "cell_type": "code",
   "execution_count": 8,
   "id": "be1a6384-0c6c-43d2-b43d-9742c40a069e",
   "metadata": {},
   "outputs": [
    {
     "name": "stdout",
     "output_type": "stream",
     "text": [
      "I am class A method\n",
      "(<class '__main__.C'>, <class '__main__.A'>, <class '__main__.B'>, <class 'object'>)\n"
     ]
    }
   ],
   "source": [
    "class A:\n",
    "    def method(self):\n",
    "        print(\"I am class A method\")\n",
    "\n",
    "class B:\n",
    "    def method(self):\n",
    "        print(\"I am class B method\")\n",
    "\n",
    "class C(A, B):\n",
    "    def method1(self):\n",
    "        print(\"I am class C method\")\n",
    "\n",
    "obj = C()\n",
    "obj.method()\n",
    "\n",
    "print(C.__mro__) # to check order"
   ]
  },
  {
   "cell_type": "markdown",
   "id": "06b9c13c-e0c3-44ca-84a3-07fe271c73ce",
   "metadata": {},
   "source": [
    "### 08. Create an abstract base class 'Shape' with an abstract method 'area()'. Then create two subclasses 'Circle' and 'Rectangle' that implement the 'area()' method."
   ]
  },
  {
   "cell_type": "code",
   "execution_count": 9,
   "id": "facf7594-b9c4-48a4-8924-5fc7cf2eabc1",
   "metadata": {},
   "outputs": [
    {
     "name": "stdout",
     "output_type": "stream",
     "text": [
      "Area of circle: 314.0\n",
      "Area of cirlce: 200\n"
     ]
    }
   ],
   "source": [
    "import abc\n",
    "\n",
    "class Shape:\n",
    "    @abc.abstractmethod\n",
    "    def area(self):\n",
    "        pass\n",
    "\n",
    "class Circle(Shape):\n",
    "    def __init__(self, radius):\n",
    "        self.radius = radius\n",
    "    def area(self):\n",
    "        total_area = 3.14 * self.radius ** 2\n",
    "        print(\"Area of circle:\", total_area)\n",
    "\n",
    "class Rectangle(Shape):\n",
    "    def __init__(self, length, breadth):\n",
    "        self.length = length\n",
    "        self.breadth = breadth\n",
    "    def area(self):\n",
    "        total_area = self.length * self.breadth\n",
    "        print(\"Area of cirlce:\", total_area)\n",
    "\n",
    "circle = Circle(10)\n",
    "rectangle = Rectangle(10, 20)\n",
    "\n",
    "list1 = [circle, rectangle]\n",
    "\n",
    "for i in list1:\n",
    "    i.area()\n",
    "    "
   ]
  },
  {
   "cell_type": "markdown",
   "id": "8ab0332c-4b0b-4fd6-a9ee-980292e72660",
   "metadata": {},
   "source": [
    "### 9. Demonstrate polymorphism by creating a function that can work with different shape objects to calculate and print their area."
   ]
  },
  {
   "cell_type": "code",
   "execution_count": 10,
   "id": "512aac56-52c9-4f2b-8e82-6e0d85eb8fc9",
   "metadata": {},
   "outputs": [
    {
     "name": "stdout",
     "output_type": "stream",
     "text": [
      "Area of circle: 314.0\n",
      "Area of rectangle: 200\n",
      "Area of circle: 100.0\n"
     ]
    }
   ],
   "source": [
    "class Circle:\n",
    "    def __init__(self, radius):\n",
    "        self.radius = radius\n",
    "    def area_of_shape(self):\n",
    "        total_area = 3.14 * self.radius ** 2\n",
    "        print(\"Area of circle:\", total_area)\n",
    "\n",
    "class Rectangle:\n",
    "    def __init__(self, length, breadth):\n",
    "        self.length = length\n",
    "        self.breadth = breadth\n",
    "    def area_of_shape(self):\n",
    "        total_area = self.length * self.breadth\n",
    "        print(\"Area of rectangle:\", total_area)\n",
    "\n",
    "class Tringle:\n",
    "    def __init__(self, breadth, height):\n",
    "        self.breadth = breadth\n",
    "        self.height = height\n",
    "    def area_of_shape(self):\n",
    "        total_area = 0.5 * self.breadth * self.height\n",
    "        print(\"Area of circle:\", total_area)\n",
    "\n",
    "def calculate_area(shape):\n",
    "    shape.area_of_shape()\n",
    "\n",
    "circle = Circle(10)\n",
    "rectangle = Rectangle(10, 20)\n",
    "tringle = Tringle(10, 20)\n",
    "\n",
    "calculate_area(circle)\n",
    "calculate_area(rectangle)\n",
    "calculate_area(tringle)"
   ]
  },
  {
   "cell_type": "markdown",
   "id": "e9456abd-e408-4e01-8f19-ca7193dae8fd",
   "metadata": {},
   "source": [
    "### 10. Implement encapsulation in a 'BankAccount' class with private attributes for 'balance' and 'account_number'. Include methods for deposit, withdrawal, and balance inquiry."
   ]
  },
  {
   "cell_type": "code",
   "execution_count": 11,
   "id": "ad697a4e-0e0d-4837-aece-3b5b7015dd57",
   "metadata": {},
   "outputs": [],
   "source": [
    "class BankAccount:\n",
    "    def __init__(self):\n",
    "        self.__balance = 25000\n",
    "        self.__account_number = 123456789\n",
    "        \n",
    "    def deposit(self, amount):\n",
    "        self.__balance += amount\n",
    "        \n",
    "    def withdraw(self, amount):\n",
    "        if self.__balance >= amount:\n",
    "            self.__balance -= amount\n",
    "            \n",
    "    def balance_inquiry(self):\n",
    "        return self.__balance\n",
    "        "
   ]
  },
  {
   "cell_type": "code",
   "execution_count": 12,
   "id": "6d863568-71f3-413a-bfee-cdd592c737fc",
   "metadata": {},
   "outputs": [
    {
     "data": {
      "text/plain": [
       "25000"
      ]
     },
     "execution_count": 12,
     "metadata": {},
     "output_type": "execute_result"
    }
   ],
   "source": [
    "obj1 = BankAccount()\n",
    "obj1.balance_inquiry()"
   ]
  },
  {
   "cell_type": "code",
   "execution_count": 13,
   "id": "0b3f61dd-b9c7-4913-bef8-6b673654581c",
   "metadata": {},
   "outputs": [
    {
     "data": {
      "text/plain": [
       "28000"
      ]
     },
     "execution_count": 13,
     "metadata": {},
     "output_type": "execute_result"
    }
   ],
   "source": [
    "obj1.deposit(3000)\n",
    "obj1.balance_inquiry()"
   ]
  },
  {
   "cell_type": "code",
   "execution_count": 14,
   "id": "b243111e-7ebe-41a5-8c6e-550b39c1ceeb",
   "metadata": {
    "scrolled": true
   },
   "outputs": [
    {
     "data": {
      "text/plain": [
       "8000"
      ]
     },
     "execution_count": 14,
     "metadata": {},
     "output_type": "execute_result"
    }
   ],
   "source": [
    "obj1.withdraw(20000)\n",
    "obj1.balance_inquiry()"
   ]
  },
  {
   "cell_type": "markdown",
   "id": "23b35070-580d-4419-b5c0-0c99092eee2b",
   "metadata": {},
   "source": [
    "### 11. Write a class that overrides the `__str__` and `__add__` magic methods. What will these methods allow you to do?"
   ]
  },
  {
   "cell_type": "code",
   "execution_count": 15,
   "id": "ffd7a3be-1631-4cd6-9e25-c26659a6377c",
   "metadata": {},
   "outputs": [
    {
     "name": "stdout",
     "output_type": "stream",
     "text": [
      "Vector(2, 3)\n",
      "Vector(6, 8)\n"
     ]
    }
   ],
   "source": [
    "class Vector:\n",
    "    def __init__(self, x, y):\n",
    "        self.x = x\n",
    "        self.y = y\n",
    "    def __str__(self):\n",
    "        return f\"Vector({self.x}, {self.y})\"\n",
    "    def __add__(self, other):\n",
    "        if isinstance(other, Vector):\n",
    "            return Vector(self.x + other.x, self.y + other.y)\n",
    "        return NotImplemented\n",
    "v1 = Vector(2, 3)\n",
    "v2 = Vector(4, 5)\n",
    "print(v1)\n",
    "v3 = v1 + v2\n",
    "print(v3) "
   ]
  },
  {
   "cell_type": "markdown",
   "id": "0f28fa36-1a7b-41b2-b627-92084b333502",
   "metadata": {},
   "source": [
    "### 12. Create a decorator that measures and prints the execution time of a function."
   ]
  },
  {
   "cell_type": "code",
   "execution_count": 16,
   "id": "ba5af33b-443f-4dd7-927b-80cf0975a31f",
   "metadata": {},
   "outputs": [
    {
     "name": "stdout",
     "output_type": "stream",
     "text": [
      "Execution time of example_function: 0.0000 seconds\n",
      "Result: 45\n"
     ]
    }
   ],
   "source": [
    "import time\n",
    "def execution_time_decorator(func):\n",
    "    def wrapper(*args, **kwargs):\n",
    "        start_time = time.time()\n",
    "        result = func(*args, **kwargs) \n",
    "        end_time = time.time() \n",
    "        execution_time = end_time - start_time  \n",
    "        print(f\"Execution time of {func.__name__}: {execution_time:.4f} seconds\")\n",
    "        return result  \n",
    "    return wrapper\n",
    "\n",
    "@execution_time_decorator\n",
    "def example_function(n):\n",
    "    total = 0\n",
    "    for i in range(n):\n",
    "        total += i\n",
    "    return total\n",
    "\n",
    "result = example_function(10)\n",
    "print(f\"Result: {result}\")\n"
   ]
  },
  {
   "cell_type": "markdown",
   "id": "14d8742e-3dea-40a4-b696-9c884c942ffc",
   "metadata": {},
   "source": [
    "### 13. Explain the concept of the Diamond Problem in multiple inheritance. How does Python resolve it?"
   ]
  },
  {
   "cell_type": "markdown",
   "id": "dd197dc4-bb37-4b18-994b-a825c03cacd7",
   "metadata": {},
   "source": [
    "Diamond problem \n",
    "- In multiple inheritance when class inherits from two or more classes then it can create ambiguity\n",
    "- so which method execute first\n",
    "- for this problem python has method resolution order(MRO) which tells the sequence of execution"
   ]
  },
  {
   "cell_type": "code",
   "execution_count": 17,
   "id": "398829f8-2d27-4238-bbaf-61a9d5c4eba2",
   "metadata": {},
   "outputs": [
    {
     "name": "stdout",
     "output_type": "stream",
     "text": [
      "Class C method\n",
      "(<class '__main__.C'>, <class '__main__.A'>, <class '__main__.B'>, <class 'object'>)\n"
     ]
    }
   ],
   "source": [
    "class A:\n",
    "    def method(self):\n",
    "        print(\"Class A method\")\n",
    "class B:\n",
    "    def method(self):\n",
    "        print(\"Class B method\")\n",
    "class C(A, B):\n",
    "    def method(self):\n",
    "        print(\"Class C method\")\n",
    "\n",
    "obj = C()\n",
    "obj.method()\n",
    "\n",
    "print(C.__mro__) #order of execution"
   ]
  },
  {
   "cell_type": "markdown",
   "id": "c64de098-e2ef-40b6-9a49-b5721382c078",
   "metadata": {},
   "source": [
    "### 14. Write a class method that keeps track of the number of instances created from a class."
   ]
  },
  {
   "cell_type": "code",
   "execution_count": 18,
   "id": "7b1d4307-ae9f-449c-bef4-c8cf19ba507a",
   "metadata": {},
   "outputs": [
    {
     "name": "stdout",
     "output_type": "stream",
     "text": [
      "Number of instances created: 3\n"
     ]
    }
   ],
   "source": [
    "class InstanceCounter:\n",
    "    _instance_count = 0\n",
    "    def __init__(self):\n",
    "        InstanceCounter._instance_count += 1\n",
    "    @classmethod\n",
    "    def get_instance_count(cls):\n",
    "        return cls._instance_count\n",
    "\n",
    "obj1 = InstanceCounter()\n",
    "obj2 = InstanceCounter()\n",
    "obj3 = InstanceCounter()\n",
    "\n",
    "print(f\"Number of instances created: {InstanceCounter.get_instance_count()}\")\n"
   ]
  },
  {
   "cell_type": "markdown",
   "id": "229dcce3-8880-4244-a0c9-c0a8930698d1",
   "metadata": {},
   "source": [
    "### 15. Implement a static method in a class that checks if a given year is a leap year."
   ]
  },
  {
   "cell_type": "code",
   "execution_count": null,
   "id": "fd1367c4-7fa0-4649-9f5f-ed63f7c846fb",
   "metadata": {},
   "outputs": [],
   "source": [
    "class YearUtils:\n",
    "    @staticmethod\n",
    "    def is_leap_year(year):\n",
    "        return (year % 4 == 0 and year % 100 != 0) or (year % 400 == 0)\n",
    "        \n",
    "year = int(input(\"Enter year:\"))\n",
    "if YearUtils.is_leap_year(year):\n",
    "    print(f\"{year} is a leap year.\")\n",
    "else:\n",
    "    print(f\"{year} is not a leap year.\")\n"
   ]
  },
  {
   "cell_type": "code",
   "execution_count": null,
   "id": "8657c584-b465-499c-a2ca-e12be9d4c638",
   "metadata": {},
   "outputs": [],
   "source": []
  }
 ],
 "metadata": {
  "kernelspec": {
   "display_name": "Python 3 (ipykernel)",
   "language": "python",
   "name": "python3"
  },
  "language_info": {
   "codemirror_mode": {
    "name": "ipython",
    "version": 3
   },
   "file_extension": ".py",
   "mimetype": "text/x-python",
   "name": "python",
   "nbconvert_exporter": "python",
   "pygments_lexer": "ipython3",
   "version": "3.10.8"
  }
 },
 "nbformat": 4,
 "nbformat_minor": 5
}
